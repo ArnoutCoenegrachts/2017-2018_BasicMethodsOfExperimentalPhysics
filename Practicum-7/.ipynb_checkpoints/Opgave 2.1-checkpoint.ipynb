{
 "cells": [
  {
   "cell_type": "code",
   "execution_count": 1,
   "metadata": {
    "collapsed": true
   },
   "outputs": [],
   "source": [
    "import numpy as np\n",
    "import matplotlib.pyplot as plt\n",
    "import scipy.optimize as opt\n",
    "import pandas as pd\n",
    "import unicodedata\n",
    "import scipy.stats as stat"
   ]
  },
  {
   "cell_type": "code",
   "execution_count": 2,
   "metadata": {
    "collapsed": false
   },
   "outputs": [],
   "source": [
    "Data1 = pd.read_csv(\"Opgave2.1.txt\", sep = \"\\t\", header = None)\n",
    "Time = np.array(Data1[0])\n",
    "Input = np.array(Data1[1])\n",
    "Output = np.array(Data1[2])"
   ]
  },
  {
   "cell_type": "code",
   "execution_count": 60,
   "metadata": {
    "collapsed": true
   },
   "outputs": [],
   "source": [
    "def Frequentie(T, I, O):\n",
    "    n = len(T)\n",
    "    AantalperiodesI = 0\n",
    "    for i in range(n-1):\n",
    "        if I[i] > 0 and I[i+1] < 0:\n",
    "            AantalperiodesI = AantalperiodesI + 1\n",
    "        if I[i] < 0 and I[i+1] > 0:\n",
    "            AantalperiodesI = AantalperiodesI + 1\n",
    "    if O.max()-O.min() > 0.2 :\n",
    "        AantalperiodesO = 0\n",
    "        for i in range(n-1):\n",
    "            if O[i] > 0 and O[i+1] < 0:\n",
    "                AantalperiodesO = AantalperiodesO + 1\n",
    "            if O[i] < 0 and O[i+1] > 0:\n",
    "                AantalperiodesO = AantalperiodesO + 1\n",
    "        AantalPeriodes = (AantalperiodesI+AantalperiodesO)/4\n",
    "    else:\n",
    "        AantalPeriodes = AantalperiodesI/2\n",
    "    print(AantalPeriodes)\n",
    "    print(AantalPeriodes/5)\n",
    "    return(AantalPeriodes/5)"
   ]
  },
  {
   "cell_type": "code",
   "execution_count": 219,
   "metadata": {
    "collapsed": false
   },
   "outputs": [
    {
     "name": "stdout",
     "output_type": "stream",
     "text": [
      "55.25\n",
      "11.05\n",
      "11.05\n"
     ]
    }
   ],
   "source": [
    "print(Frequentie(Time,Input,Output))"
   ]
  },
  {
   "cell_type": "code",
   "execution_count": 216,
   "metadata": {
    "collapsed": false
   },
   "outputs": [
    {
     "name": "stdout",
     "output_type": "stream",
     "text": [
      "40\n"
     ]
    }
   ],
   "source": [
    "terror = list(Time)\n",
    "print(terror.index(0.2))"
   ]
  },
  {
   "cell_type": "code",
   "execution_count": 229,
   "metadata": {
    "collapsed": false
   },
   "outputs": [
    {
     "data": {
      "image/png": "[encoded data removed]",
      "text/plain": [
       "<matplotlib.figure.Figure at 0x11e880e48>"
      ]
     },
     "metadata": {},
     "output_type": "display_data"
    }
   ],
   "source": [
    "FigVi = plt.figure()\n",
    "#plt.errorbar(Wavelength_He, Intensity_He, SigmaIntensity_He, label = 'I($\\lambda$)', fmt = '.')\n",
    "plt.scatter(Time,  Input, marker = '.', color = 'blue', label = 'Input') #[:41]\n",
    "plt.scatter(Time, Output, marker = '.', color = 'red', label = 'Output')\n",
    "\n",
    "#plt.plot(Time,  Input, color = 'blue', label = 'input')\n",
    "#plt.plot(Time, Output, color = 'red', label = 'output')\n",
    "\n",
    "#plt.errorbar(Time, Input, xerr = 0.005, yerr = 0.00000000001, fmt = '.', color = 'blue', label = 'input')\n",
    "#plt.errorbar(Time, Output, xerr = 0.005, yerr = 0.00000000001, fmt = '.', color = 'red', label = 'output')\n",
    "\n",
    "#plt.ylabel('Intensiteit I', size=20)\n",
    "#plt.xlabel('$\\lambda$ (nm)', size=20)\n",
    "#plt.legend(fontsize=16)\n",
    "plt.tick_params(axis='both', which='major', labelsize=14)\n",
    "#plt.title(\"Helium Spectrum\")\n",
    "plt.axis([0, 0.23, -4, 4])\n",
    "plt.legend()\n",
    "plt.xlabel(\"Tijd [s]\", fontsize = 12)\n",
    "plt.ylabel(\"Potentiaalverschil [V]\", fontsize = 12)\n",
    "plt.axvline(0.0225)\n",
    "plt.axvline(0.0225 + 0.091)\n",
    "plt.axvline(0.0225 + 2 * 0.091)\n",
    "#FigVi.savefig('Opgave1 - sectie data.jpg', dpi=400, bbox_inches='tight')\n",
    "plt.show()"
   ]
  },
  {
   "cell_type": "code",
   "execution_count": 68,
   "metadata": {
    "collapsed": false,
    "scrolled": false
   },
   "outputs": [
    {
     "name": "stdout",
     "output_type": "stream",
     "text": [
      "[3.3577533577499996, 3.36752136752, 3.37240537241, 3.37240537241] [2.465, 1.29, 0.115, 2.365]\n",
      "0.006907025949420571\n"
     ]
    }
   ],
   "source": [
    "I = Input.tolist()\n",
    "InputPlus = []\n",
    "InputMin = []\n",
    "for i in I:\n",
    "    if i >= 0:\n",
    "        InputPlus.append(i)\n",
    "    else:\n",
    "        InputMin.append(i)\n",
    "test = []\n",
    "erg = []\n",
    "for i in range(4):\n",
    "    test.append(min(InputPlus))\n",
    "    j = I.index(min(InputPlus))\n",
    "    erg.append(Time[j])\n",
    "    InputPlus.remove(I[j])\n",
    "    if min(InputPlus) in InputPlus:\n",
    "        InputPlus.remove(min(InputPlus))\n",
    "    I.pop(j)\n",
    "print(test, erg)\n",
    "\n",
    "InputPlus = []\n",
    "InputMin = []\n",
    "for i in I:\n",
    "    if i >= 0:\n",
    "        InputPlus.append(i)\n",
    "    else:\n",
    "        InputMin.append(i)\n",
    "\n",
    "u = sum(test)/4\n",
    "y = 0\n",
    "for i in test:\n",
    "    y = y + (i-u)**2\n",
    "print(np.sqrt(y/(4-1)))"
   ]
  },
  {
   "cell_type": "code",
   "execution_count": 17,
   "metadata": {
    "collapsed": true
   },
   "outputs": [],
   "source": [
    "def model(t, b, RC, A):\n",
    "    return A * (1 - np.exp(-t/(RC)) - (1-np.exp(-(t-b)/(RC)))*np.heaviside(t-b, 0.5))"
   ]
  },
  {
   "cell_type": "code",
   "execution_count": 235,
   "metadata": {
    "collapsed": false
   },
   "outputs": [
    {
     "name": "stdout",
     "output_type": "stream",
     "text": [
      "0.04447600861758434 0.009855670773427116 7.213352951477554\n",
      "0.05915157509989166%\n"
     ]
    }
   ],
   "source": [
    "t = Time[5:24]\n",
    "t = t - t.min()\n",
    "x = Input[5:24]\n",
    "x = x + x.max()\n",
    "y = Output[5:24]\n",
    "y = y + abs(y.min())\n",
    "\n",
    "A = x.max()\n",
    "\n",
    "R = 1000\n",
    "C = 10*10**-6\n",
    "b = np.log(100)*R*C\n",
    "#s = 0.00000000001\n",
    "#s = 0.01 * y\n",
    "s = 0.1\n",
    "    \n",
    "\n",
    "x0 = [b, 0.01, A]\n",
    "def chi2(x,y,param,s):\n",
    "    diff = y - model(x,param[0],param[1],param[2])\n",
    "    return np.sum((diff/s)**2)\n",
    "    \n",
    "chi2ftie = lambda param: chi2(t, y, param, s)\n",
    "\n",
    "result = opt.minimize(chi2ftie,x0)\n",
    "B, rc, a = result.x\n",
    "print(B,rc, a)\n",
    "#print(b, 0.01, A)\n",
    "\n",
    "v = len(t) - len([B, rc, a])\n",
    "pwaarde = 1 - stat.chi2.cdf(chi2ftie([B, rc, a]), v)\n",
    "print(str(pwaarde*100)+\"%\")"
   ]
  },
  {
   "cell_type": "code",
   "execution_count": 292,
   "metadata": {
    "collapsed": false,
    "scrolled": false
   },
   "outputs": [
    {
     "data": {
      "image/png": "[encoded data removed]",
      "text/plain": [
       "<matplotlib.figure.Figure at 0x11e47e3c8>"
      ]
     },
     "metadata": {},
     "output_type": "display_data"
    },
    {
     "name": "stdout",
     "output_type": "stream",
     "text": [
      "0.04447600861758434 0.009855670773427116 7.213352951477554\n"
     ]
    }
   ],
   "source": [
    "t_smooth = np.linspace(t.min(), t.max()+0.01, 10000)\n",
    "fig = plt.figure()\n",
    "plt.errorbar(t, y, yerr = 0.01, xerr = 0.005/2, fmt = '.', label = 'Potentiaalverschil') #0.00000000001\n",
    "\n",
    "plt.plot(t_smooth, model(t_smooth, B, rc, a), label = \"V(t)\", color = 'g')\n",
    "\n",
    "#plt.axvline(rc, color = 'c')\n",
    "#plt.axhline(a*(1-np.exp(-1)), color = 'c')\n",
    "\n",
    "#plt.axvline(B+rc, color = 'm')\n",
    "#plt.axhline(a*np.exp(-1), color = 'm')\n",
    "\n",
    "plt.xlabel(\"Tijd [s]\", fontsize = 12)\n",
    "plt.ylabel(\"Potentiaalverschil [V]\", fontsize = 12)\n",
    "\n",
    "\n",
    "plt.axis([0, 0.091, -0.02, 7.5])\n",
    "#plt.xticks([0,0.01, 0.02, 0.03, 0.04, 0.05, 0.06, 0.07, 0.08, 0.09])\n",
    "#fig.savefig('Opgave1-fit.jpg', dpi=400, bbox_inches='tight') \n",
    "\n",
    "\n",
    "\n",
    "#plt.xticks([0,0.005, 0.01, 0.015, 0.02, 0.025, 0.03, 0.035, 0.04, 0.045, 0.05, 0.055, \n",
    "            #0.06, 0.065, 0.07, 0.075, 0.08, 0.085, 0.09], \n",
    "          #[0,\"\", 0.01, \"\", 0.02, \"\", 0.03, \"\", 0.04, \"\", 0.05, \"\", \n",
    "            #0.06, \"\", 0.07, \"\", 0.08, \"\", 0.09])\n",
    "#AAAAA = np.linspace(0, rc, 50)\n",
    "#BBBBB = [1-np.exp(-1)]*50\n",
    "#plt.plot(AAAAA, BBBBB, 'c--', label = \"$V = 1-e^{-1}$\")\n",
    "#CCCCC = [rc]*50\n",
    "#DDDDD = np.linspace(-0.02, 1-np.exp(-1), 50)\n",
    "#plt.plot(CCCCC, DDDDD, 'c--')\n",
    "#EEEEE = np.linspace(0, rc+B, 50)\n",
    "#FFFFF = [np.exp(-1)]*50\n",
    "#plt.plot(EEEEE, FFFFF, 'm--', label = \"$V = e^{-1}$\")\n",
    "#HHHHH = [rc+B]*50\n",
    "#GGGGG = np.linspace(0, np.exp(-1), 50)\n",
    "#plt.plot(HHHHH, GGGGG, 'm--')\n",
    "#plt.axhline(1-np.exp(-1), linestyle = '--', color = 'c', label = \"$1-e^{-1}$\")\n",
    "#plt.axvline(rc, linestyle = '--', color = 'c')\n",
    "#plt.axhline(np.exp(-1), linestyle = '--', color = 'm', label = \"$e^{-1}$\")\n",
    "#plt.axvline(rc+B, linestyle = '--', color = 'm')\n",
    "#plt.scatter([rc, rc+B], [1-np.exp(-1), np.exp(-1)], color = [\"c\", \"m\"], marker = 'o')\n",
    "\n",
    "\n",
    "\n",
    "#fig.savefig('Opgave1-tau.jpg', dpi=400, bbox_inches='tight') \n",
    "plt.legend(fontsize = 11)\n",
    "plt.show()\n",
    "\n",
    "print(B, rc, a)\n",
    "#print(Bc, rcc, ac)"
   ]
  },
  {
   "cell_type": "code",
   "execution_count": 233,
   "metadata": {
    "collapsed": false
   },
   "outputs": [
    {
     "name": "stdout",
     "output_type": "stream",
     "text": [
      "Fout op B 0.00011571940201496322 0.0001143857582553906\n",
      "-------\n",
      "Fout op R*C 0.00014199190201791279 0.0001432571058980845\n",
      "-------\n",
      "Fout op A 0.037866884383971566 0.03786685671102763\n"
     ]
    }
   ],
   "source": [
    "F = lambda X: chi2(t, y, [X,rc,a], s) - chi2(t, y, [B,rc,a], s) - 1\n",
    "B1 = opt.fsolve(F,0.042)[0]\n",
    "B2 = opt.fsolve(F,0.046)[0]\n",
    "sB1 = B - B1\n",
    "sB2 = B2 - B\n",
    "print(\"Fout op B\",sB1,sB2)\n",
    "print(\"-------\")\n",
    "F = lambda X: chi2(t, y, [B,X,a], s) - chi2(t, y, [B,rc,a], s) - 1\n",
    "rc1 = opt.fsolve(F,0.009)[0]\n",
    "rc2 = opt.fsolve(F,0.011)[0]\n",
    "src1 = rc - rc1\n",
    "src2 = rc2 - rc\n",
    "print(\"Fout op R*C\",src1,src2)\n",
    "print(\"-------\")\n",
    "F = lambda X: chi2(t, y, [B,rc,X], s) - chi2(t, y, [B,rc,a], s) - 1\n",
    "a1 = opt.fsolve(F,7.1)[0]\n",
    "a2 = opt.fsolve(F,7.3)[0]\n",
    "sa1 = a - a1\n",
    "sa2 = a2 - a\n",
    "print(\"Fout op A\",sa1,sa2)\n"
   ]
  }
 ],
 "metadata": {
  "anaconda-cloud": {},
  "kernelspec": {
   "display_name": "Python [default]",
   "language": "python",
   "name": "python3"
  },
  "language_info": {
   "codemirror_mode": {
    "name": "ipython",
    "version": 3
   },
   "file_extension": ".py",
   "mimetype": "text/x-python",
   "name": "python",
   "nbconvert_exporter": "python",
   "pygments_lexer": "ipython3",
   "version": "3.5.2"
  }
 },
 "nbformat": 4,
 "nbformat_minor": 1
}
