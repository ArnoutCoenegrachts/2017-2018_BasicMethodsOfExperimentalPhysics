{
 "cells": [
  {
   "cell_type": "code",
   "execution_count": 1,
   "metadata": {
    "collapsed": true
   },
   "outputs": [],
   "source": [
    "import sympy as sp\n",
    "import numpy as np\n",
    "import matplotlib.pyplot as plt\n",
    "import scipy.optimize as opt\n",
    "import pandas as pd\n",
    "import unicodedata\n",
    "import scipy.stats as stat"
   ]
  },
  {
   "cell_type": "code",
   "execution_count": 72,
   "metadata": {
    "collapsed": true
   },
   "outputs": [],
   "source": [
    "def eVtoJ(eV):\n",
    "    return(eV*1.602*10**-19)\n",
    "\n",
    "def JtoeV(J):\n",
    "    return(J/(1.602*10**-19))\n",
    "\n",
    "def nonRelativistic_velocity(E,m):\n",
    "    v = np.sqrt(2*E/m)\n",
    "    return(v)\n",
    "\n",
    "def Relativistic_velocity(E,m):\n",
    "    c = 299792458 #m/s\n",
    "    v = c * np.sqrt(1 - (E/(m*c**2)+1)**-2) #m/s\n",
    "    print(\"Velocity = \"+str(v))\n",
    "    return(v)\n",
    "\n",
    "def Bethe(m,E,N,Z,z,I):\n",
    "    c = 299792458 #m/s\n",
    "    e = 1.6021766208 * 10 ** -19 #C\n",
    "    eta = 8.854187817620*10**-12 #C^2*s^2/(kg*m^3) \n",
    "    E = eVtoJ(E*10**6) #J\n",
    "    v = Relativistic_velocity(E,m) #m/s\n",
    "    C = (4*np.pi*e**4*z**2)/m * N /(4*np.pi*eta)**2#*Z\n",
    "    print(C)\n",
    "    S = C*v**-2*( np.log((2*m*v**2)/I) - np.log(1-(v/c)**2) - (v/c)**2 ) * 10**4\n",
    "    return(JtoeV(S)*10**-6)"
   ]
  },
  {
   "cell_type": "code",
   "execution_count": 66,
   "metadata": {
    "collapsed": false
   },
   "outputs": [
    {
     "name": "stdout",
     "output_type": "stream",
     "text": [
      "3.0018871283603345e+23\n"
     ]
    }
   ],
   "source": [
    "c = 299792458 #m/s\n",
    "e = 1.6021766208 * 10 ** -19 #C\n",
    "me = 9.109534 * 10 ** -31 #kg\n",
    "N_a = 6.022 * 10 ** 23 #mol^-1\n",
    "\n",
    "I_Si = eVtoJ(173) #J #140\n",
    "Z_Si = 14\n",
    "Rho_Si = 2.33 #g/cm^3 #2.329\n",
    "M_Si = 28.085 #g/mol\n",
    "N_Si = (N_a * Z_Si / M_Si) #g^-1\n",
    "print(N_Si)"
   ]
  },
  {
   "cell_type": "code",
   "execution_count": 67,
   "metadata": {
    "collapsed": false
   },
   "outputs": [
    {
     "name": "stdout",
     "output_type": "stream",
     "text": [
      "Velocity = 58451616.70385952\n",
      "0.22041057821949492\n",
      "21.80622517962155\n"
     ]
    }
   ],
   "source": [
    "b = Bethe(me, 1*10**-2, N_Si, Z_Si, 1, I_Si)\n",
    "print(b) #MeV*cm^2/g\n",
    "#print(16.89/b)"
   ]
  },
  {
   "cell_type": "code",
   "execution_count": 76,
   "metadata": {
    "collapsed": false
   },
   "outputs": [],
   "source": [
    "Data1 = pd.read_csv(\"Data.txt\", sep = \"|\", header = None)\n",
    "K = np.array(Data1[0])\n",
    "S = np.array(Data1[1])\n",
    "ST = np.array(Data1[2])"
   ]
  },
  {
   "cell_type": "code",
   "execution_count": 78,
   "metadata": {
    "collapsed": false
   },
   "outputs": [
    {
     "name": "stdout",
     "output_type": "stream",
     "text": [
      "Velocity = [5.84516167e+07 1.70349845e+08 2.11492740e+08 ... 2.99792419e+08\n",
      " 2.99792419e+08 2.99792419e+08]\n",
      "0.22041057821949492\n"
     ]
    },
    {
     "data": {
      "image/png": "[encoded data removed]",
      "text/plain": [
       "<matplotlib.figure.Figure at 0x12081f710>"
      ]
     },
     "metadata": {},
     "output_type": "display_data"
    }
   ],
   "source": [
    "E_x = np.linspace(10**-2, 10**3, 10000)\n",
    "y = Bethe(me, E_x, N_Si, Z_Si, 1, I_Si)\n",
    "fig = plt.figure()\n",
    "plt.plot(np.log10(E_x), np.log10(y))\n",
    "plt.errorbar(np.log10(K),np.log10(S),fmt = '.')\n",
    "plt.errorbar(np.log10(K),np.log10(ST),fmt = '.')\n",
    "plt.xlabel(\"E (MeV)\")\n",
    "plt.ylabel(\"S (MeV cm^2/g)\")\n",
    "plt.axis([-2, 3, 0, 2])\n",
    "plt.show()"
   ]
  },
  {
   "cell_type": "code",
   "execution_count": 10,
   "metadata": {
    "collapsed": false
   },
   "outputs": [
    {
     "name": "stdout",
     "output_type": "stream",
     "text": [
      "4.0\n"
     ]
    }
   ],
   "source": [
    "print(np.log10(10**4))"
   ]
  },
  {
   "cell_type": "code",
   "execution_count": 11,
   "metadata": {
    "collapsed": false
   },
   "outputs": [
    {
     "name": "stdout",
     "output_type": "stream",
     "text": [
      "1.982979426588449\n",
      "41.469387755102034\n"
     ]
    }
   ],
   "source": [
    "print(200*10*3/(2.47*10**6*1.225*10**-3))\n",
    "print((1.225*10**-3/0.0508)**-1) #stoppingpath length = CSDA-Range/density"
   ]
  }
 ],
 "metadata": {
  "anaconda-cloud": {},
  "kernelspec": {
   "display_name": "Python [default]",
   "language": "python",
   "name": "python3"
  },
  "language_info": {
   "codemirror_mode": {
    "name": "ipython",
    "version": 3
   },
   "file_extension": ".py",
   "mimetype": "text/x-python",
   "name": "python",
   "nbconvert_exporter": "python",
   "pygments_lexer": "ipython3",
   "version": "3.5.2"
  }
 },
 "nbformat": 4,
 "nbformat_minor": 1
}
