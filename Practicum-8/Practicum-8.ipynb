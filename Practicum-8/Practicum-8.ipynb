{
 "cells": [
  {
   "cell_type": "code",
   "execution_count": 1,
   "metadata": {
    "collapsed": true
   },
   "outputs": [],
   "source": [
    "import numpy as np\n",
    "import matplotlib.pyplot as plt\n",
    "import scipy.optimize as opt\n",
    "import pandas as pd\n",
    "import unicodedata\n",
    "import scipy.stats as stat"
   ]
  },
  {
   "cell_type": "code",
   "execution_count": 2,
   "metadata": {
    "collapsed": true
   },
   "outputs": [],
   "source": [
    "def gemiddelde(lijst):\n",
    "    return(sum(lijst)/len(lijst))\n",
    "\n",
    "def Sm(lijst):\n",
    "    return( np.sqrt(gemiddelde(lijst)/len(lijst)) )\n",
    "\n",
    "def N(gemiddelde):\n",
    "    noemer = 0.05**2 * gemiddelde\n",
    "    return (1/noemer)\n",
    "\n",
    "def Print(Meting, gemiddelde, sigma):\n",
    "    print(str(N(gemiddelde))+\" / \"+str(len(Meting)))\n",
    "    print(str(gemiddelde)+\"+-\"+str(sigma))\n",
    "    \n",
    "def model(s, I, mu):\n",
    "    return( I*np.exp(-mu*s) )"
   ]
  },
  {
   "cell_type": "code",
   "execution_count": 3,
   "metadata": {
    "collapsed": false
   },
   "outputs": [
    {
     "data": {
      "image/png": "[encoded data removed]",
      "text/plain": [
       "<matplotlib.figure.Figure at 0x11d292128>"
      ]
     },
     "metadata": {},
     "output_type": "display_data"
    }
   ],
   "source": [
    "x = np.linspace(0, 30, 50)\n",
    "fig = plt.figure()\n",
    "plt.plot(x, model(x, 1, 0.03))\n",
    "plt.show()"
   ]
  },
  {
   "cell_type": "code",
   "execution_count": 4,
   "metadata": {
    "collapsed": false
   },
   "outputs": [
    {
     "name": "stdout",
     "output_type": "stream",
     "text": [
      "2.3333333333333335+-0.8819171036881969\n"
     ]
    }
   ],
   "source": [
    "MetingAchtergrond = np.array([3, 3, 1])\n",
    "AchtergrondStraling = gemiddelde(MetingAchtergrond)\n",
    "FoutAchtergrondStraling = Sm(MetingAchtergrond)\n",
    "print(str(AchtergrondStraling)+\"+-\"+str(FoutAchtergrondStraling))"
   ]
  },
  {
   "cell_type": "code",
   "execution_count": 5,
   "metadata": {
    "collapsed": true
   },
   "outputs": [],
   "source": [
    "#Identificatie van de straling van 60-Co"
   ]
  },
  {
   "cell_type": "code",
   "execution_count": 6,
   "metadata": {
    "collapsed": false
   },
   "outputs": [
    {
     "name": "stdout",
     "output_type": "stream",
     "text": [
      "1.224489795918367 / 2\n",
      "326.6666666666667 +- 12.780193008453876\n"
     ]
    }
   ],
   "source": [
    "MetingNiets = np.array([338, 320]) - AchtergrondStraling\n",
    "Niets = gemiddelde(MetingNiets)\n",
    "FoutNiets = Sm(MetingNiets)\n",
    "print(str(N(Niets))+\" / \"+str(len(MetingNiets)))\n",
    "print(str(Niets)+\" +- \"+str(FoutNiets))"
   ]
  },
  {
   "cell_type": "code",
   "execution_count": 7,
   "metadata": {
    "collapsed": false
   },
   "outputs": [
    {
     "name": "stdout",
     "output_type": "stream",
     "text": [
      "1.2078510317060893 / 2\n",
      "331.1666666666667+-12.86791876463841\n"
     ]
    }
   ],
   "source": [
    "MetingPapier1mm = np.array([329, 338]) - AchtergrondStraling\n",
    "Papier1mm = gemiddelde(MetingPapier1mm)\n",
    "FoutPapier1mm = Sm(MetingPapier1mm)\n",
    "print(str(N(Papier1mm))+\" / \"+str(len(MetingPapier1mm)))\n",
    "print(str(Papier1mm)+\"+-\"+str(FoutPapier1mm))"
   ]
  },
  {
   "cell_type": "code",
   "execution_count": 8,
   "metadata": {
    "collapsed": false
   },
   "outputs": [
    {
     "name": "stdout",
     "output_type": "stream",
     "text": [
      "1.339285714285714 / 2\n",
      "298.6666666666667+-12.220201853215574\n"
     ]
    }
   ],
   "source": [
    "MetingAl1mm = np.array([307, 295]) - AchtergrondStraling\n",
    "Al1mm = gemiddelde(MetingAl1mm)\n",
    "FoutAl1mm = Sm(MetingAl1mm)\n",
    "print(str(N(Al1mm))+\" / \"+str(len(MetingAl1mm)))\n",
    "print(str(Al1mm)+\"+-\"+str(FoutAl1mm))"
   ]
  },
  {
   "cell_type": "code",
   "execution_count": 9,
   "metadata": {
    "collapsed": false
   },
   "outputs": [
    {
     "name": "stdout",
     "output_type": "stream",
     "text": [
      "1.3551665725578765 / 2\n",
      "295.1666666666667+-12.148388096094616\n"
     ]
    }
   ],
   "source": [
    "MetingAl4mm = np.array([309, 286]) - AchtergrondStraling\n",
    "Al4mm = gemiddelde(MetingAl4mm)\n",
    "FoutAl4mm = Sm(MetingAl4mm)\n",
    "print(str(N(Al4mm))+\" / \"+str(len(MetingAl4mm)))\n",
    "print(str(Al4mm)+\"+-\"+str(FoutAl4mm))"
   ]
  },
  {
   "cell_type": "code",
   "execution_count": 10,
   "metadata": {
    "collapsed": false
   },
   "outputs": [
    {
     "name": "stdout",
     "output_type": "stream",
     "text": [
      "1.290322580645161 / 2\n",
      "310.0+-12.449899597988733\n"
     ]
    }
   ],
   "source": [
    "MetingPb1mm = np.array([325, 295])\n",
    "Pb1mm = gemiddelde(MetingPb1mm)\n",
    "FoutPb1mm = Sm(MetingPb1mm)\n",
    "print(str(N(Pb1mm))+\" / \"+str(len(MetingPb1mm)))\n",
    "print(str(Pb1mm)+\"+-\"+str(FoutPb1mm))"
   ]
  },
  {
   "cell_type": "code",
   "execution_count": 11,
   "metadata": {
    "collapsed": false
   },
   "outputs": [
    {
     "name": "stdout",
     "output_type": "stream",
     "text": [
      "1.6771488469601672 / 2\n",
      "238.5+-10.920164833920778\n"
     ]
    }
   ],
   "source": [
    "MetingPb4mm = np.array([224, 253]) #, 224\n",
    "Pb4mm = gemiddelde(MetingPb4mm)\n",
    "FoutPb4mm = Sm(MetingPb4mm)\n",
    "print(str(N(Pb4mm))+\" / \"+str(len(MetingPb4mm)))\n",
    "print(str(Pb4mm)+\"+-\"+str(FoutPb4mm))"
   ]
  },
  {
   "cell_type": "code",
   "execution_count": 12,
   "metadata": {
    "collapsed": true
   },
   "outputs": [],
   "source": [
    "#absorptie van gamma-straling van 60-Co"
   ]
  },
  {
   "cell_type": "code",
   "execution_count": 13,
   "metadata": {
    "collapsed": false
   },
   "outputs": [
    {
     "name": "stdout",
     "output_type": "stream",
     "text": [
      "4.335260115606935 / 5\n",
      "92.26666666666668+-4.29573431828987\n"
     ]
    }
   ],
   "source": [
    "MetingNiets2 = np.array([94, 100, 81, 108, 90]) - AchtergrondStraling\n",
    "Niets2 = gemiddelde(MetingNiets2)\n",
    "FoutNiets2 = Sm(MetingNiets2)\n",
    "print(str(N(Niets2))+\" / \"+str(len(MetingNiets2)))\n",
    "print(str(Niets2)+\"+-\"+str(FoutNiets2))"
   ]
  },
  {
   "cell_type": "code",
   "execution_count": 14,
   "metadata": {
    "collapsed": false
   },
   "outputs": [
    {
     "name": "stdout",
     "output_type": "stream",
     "text": [
      "5.139186295503211 / 6\n",
      "77.83333333333334+-3.6016971308290517\n"
     ]
    }
   ],
   "source": [
    "MetingPb5mm = np.array([81, 83, 76, 87, 76, 78]) - AchtergrondStraling\n",
    "Pb5mm = gemiddelde(MetingPb5mm)\n",
    "FoutPb5mm = Sm(MetingPb5mm)\n",
    "Print(MetingPb5mm, Pb5mm, FoutPb5mm)"
   ]
  },
  {
   "cell_type": "code",
   "execution_count": 15,
   "metadata": {
    "collapsed": false
   },
   "outputs": [
    {
     "name": "stdout",
     "output_type": "stream",
     "text": [
      "5.911330049261082 / 6\n",
      "67.66666666666667+-3.358240279934981\n"
     ]
    }
   ],
   "source": [
    "MetingPb10mm = np.array([75, 65, 77, 63, 73, 67]) - AchtergrondStraling\n",
    "Pb10mm = gemiddelde(MetingPb10mm)\n",
    "FoutPb10mm = Sm(MetingPb10mm)\n",
    "Print(MetingPb10mm, Pb10mm, FoutPb10mm)"
   ]
  },
  {
   "cell_type": "code",
   "execution_count": 16,
   "metadata": {
    "collapsed": false
   },
   "outputs": [
    {
     "name": "stdout",
     "output_type": "stream",
     "text": [
      "8.888888888888886 / 9\n",
      "45.00000000000001+-2.23606797749979\n"
     ]
    }
   ],
   "source": [
    "MetingPb15mm = np.array([48, 41, 43, 55, 48, 47, 47, 41, 56]) - AchtergrondStraling\n",
    "Pb15mm = gemiddelde(MetingPb15mm)\n",
    "FoutPb15mm = Sm(MetingPb15mm)\n",
    "Print(MetingPb15mm, Pb15mm, FoutPb15mm)"
   ]
  },
  {
   "cell_type": "code",
   "execution_count": 17,
   "metadata": {
    "collapsed": false
   },
   "outputs": [
    {
     "name": "stdout",
     "output_type": "stream",
     "text": [
      "10.61946902654867 / 11\n",
      "37.66666666666667+-1.8504708655481243\n"
     ]
    }
   ],
   "source": [
    "MetingPb20mm = np.array([49, 34, 41, 43, 35, 40, 46, 46, 30, 36, 40]) - AchtergrondStraling\n",
    "Pb20mm = gemiddelde(MetingPb20mm)\n",
    "FoutPb20mm = Sm(MetingPb20mm)\n",
    "Print(MetingPb20mm, Pb20mm, FoutPb20mm)"
   ]
  },
  {
   "cell_type": "code",
   "execution_count": 18,
   "metadata": {
    "collapsed": false
   },
   "outputs": [
    {
     "name": "stdout",
     "output_type": "stream",
     "text": [
      "13.988343047460447 / 14\n",
      "28.5952380952381+-1.4291665427103732\n"
     ]
    }
   ],
   "source": [
    "MetingPb25mm = np.array([33, 27, 29, 37, 31, 23, 31, 27, 43, 31, 32, 32, 28, 29]) - AchtergrondStraling\n",
    "Pb25mm = gemiddelde(MetingPb25mm)\n",
    "FoutPb25mm = Sm(MetingPb25mm)\n",
    "Print(MetingPb25mm, Pb25mm, FoutPb25mm)"
   ]
  },
  {
   "cell_type": "code",
   "execution_count": 19,
   "metadata": {
    "collapsed": false
   },
   "outputs": [
    {
     "name": "stdout",
     "output_type": "stream",
     "text": [
      "19.261637239165317 / 20\n",
      "20.766666666666673+-1.0189864245088516\n"
     ]
    }
   ],
   "source": [
    "MetingPb30mm = np.array([24, 26, 32, 23, 27, 26, 16, 25, 19, 16, 24, 34, 19, 14, 24, 22, 23, 18, 19, 31]) - AchtergrondStraling\n",
    "Pb30mm = gemiddelde(MetingPb30mm)\n",
    "FoutPb30mm = Sm(MetingPb30mm)\n",
    "Print(MetingPb30mm, Pb30mm, FoutPb30mm)"
   ]
  },
  {
   "cell_type": "code",
   "execution_count": 20,
   "metadata": {
    "collapsed": false
   },
   "outputs": [
    {
     "data": {
      "image/png": "[encoded data removed]",
      "text/plain": [
       "<matplotlib.figure.Figure at 0x11d45da20>"
      ]
     },
     "metadata": {},
     "output_type": "display_data"
    }
   ],
   "source": [
    "x = np.linspace(0, 30, 50)\n",
    "fig = plt.figure()\n",
    "xPb = np.array([0, 5, 10, 15, 20, 25, 30])\n",
    "yPb = np.array([Niets2, Pb5mm, Pb10mm, Pb15mm, Pb20mm, Pb25mm, Pb30mm])\n",
    "sPb = np.array([FoutNiets2, FoutPb5mm, FoutPb10mm, FoutPb15mm, FoutPb20mm, FoutPb25mm, FoutPb30mm])\n",
    "plt.errorbar(xPb, yPb, sPb, fmt = '.')\n",
    "plt.axis([-0.2, 30.2, 10, 100])\n",
    "plt.show()"
   ]
  },
  {
   "cell_type": "code",
   "execution_count": 21,
   "metadata": {
    "collapsed": false
   },
   "outputs": [
    {
     "name": "stdout",
     "output_type": "stream",
     "text": [
      "98.51499636805703 0.050108020826766825\n",
      "6.70007025677033%\n",
      "13.833058443004363\n"
     ]
    }
   ],
   "source": [
    "x0 = [Niets2, 0.5]\n",
    "def chi2(x,y,param,s):\n",
    "    diff = y - model(x,param[0],param[1])\n",
    "    return np.sum((diff/s)**2)\n",
    "    \n",
    "chi2ftie = lambda param: chi2(xPb, yPb, param, sPb)\n",
    "\n",
    "result = opt.minimize(chi2ftie,x0)\n",
    "I_Pb, mu_Pb = result.x\n",
    "print(I_Pb, mu_Pb)\n",
    "\n",
    "d_Pb = np.log(2)/mu_Pb\n",
    "\n",
    "v = len(xPb) - len([I_Pb, mu_Pb])\n",
    "pwaarde = 1 - stat.chi2.cdf(chi2ftie([I_Pb, mu_Pb]), v)\n",
    "print(str(pwaarde*100)+\"%\")\n",
    "\n",
    "print(d_Pb)"
   ]
  },
  {
   "cell_type": "code",
   "execution_count": 22,
   "metadata": {
    "collapsed": false
   },
   "outputs": [
    {
     "name": "stdout",
     "output_type": "stream",
     "text": [
      "Fout op I_Pb 1.8110402059046748 1.8110385590011902\n",
      "-------\n",
      "Fout op mu_Pb 0.0010072220514015864 0.0010327385903000225\n"
     ]
    }
   ],
   "source": [
    "F = lambda X: chi2(xPb, yPb, [X,mu_Pb], sPb) - chi2(xPb, yPb, [I_Pb, mu_Pb], sPb) - 1\n",
    "I_Pb1 = opt.fsolve(F,85)[0]\n",
    "I_Pb2 = opt.fsolve(F,110)[0]\n",
    "sI_Pb1 = I_Pb - I_Pb1\n",
    "sI_Pb2 = I_Pb2 - I_Pb\n",
    "print(\"Fout op I_Pb\",sI_Pb1,sI_Pb2)\n",
    "print(\"-------\")\n",
    "F = lambda X: chi2(xPb, yPb, [I_Pb,X], sPb) - chi2(xPb, yPb, [I_Pb, mu_Pb], sPb) - 1\n",
    "mu_Pb1 = opt.fsolve(F,0.03)[0]\n",
    "mu_Pb2 = opt.fsolve(F,0.07)[0]\n",
    "smu_Pb1 = mu_Pb - mu_Pb1\n",
    "smu_Pb2 = mu_Pb2 - mu_Pb\n",
    "print(\"Fout op mu_Pb\",smu_Pb1,smu_Pb2)"
   ]
  },
  {
   "cell_type": "code",
   "execution_count": 23,
   "metadata": {
    "collapsed": false
   },
   "outputs": [
    {
     "data": {
      "image/png": "[encoded data removed]",
      "text/plain": [
       "<matplotlib.figure.Figure at 0x11d981828>"
      ]
     },
     "metadata": {},
     "output_type": "display_data"
    }
   ],
   "source": [
    "fig = plt.figure()\n",
    "plt.errorbar(xPb, yPb, sPb, fmt = '.', label = 'Intensiteit')\n",
    "plt.plot(x, model(x, I_Pb, mu_Pb), label = r'$I(d)$')\n",
    "plt.axvline(d_Pb, color = 'r', linestyle = '--', label = r'$d_{1/2}$')\n",
    "plt.xlabel(\"Dikte [mm]\", fontsize = 12)\n",
    "plt.ylabel(\"Intensiteit\", fontsize = 12)\n",
    "plt.legend()\n",
    "plt.axis([-0.4, 30.4, 10, 100])\n",
    "#fig.savefig('Absorptie_door_Pb.jpg', dpi=400, bbox_inches='tight') \n",
    "plt.show()"
   ]
  },
  {
   "cell_type": "code",
   "execution_count": 24,
   "metadata": {
    "collapsed": false
   },
   "outputs": [
    {
     "name": "stdout",
     "output_type": "stream",
     "text": [
      "4.354136429608126 / 5\n",
      "91.86666666666667+-4.28641264151427\n"
     ]
    }
   ],
   "source": [
    "MetingFe5mm = np.array([93, 102, 85, 103, 88]) - AchtergrondStraling\n",
    "Fe5mm = gemiddelde(MetingFe5mm)\n",
    "FoutFe5mm = Sm(MetingFe5mm)\n",
    "Print(MetingFe5mm, Fe5mm, FoutFe5mm)"
   ]
  },
  {
   "cell_type": "code",
   "execution_count": 25,
   "metadata": {
    "collapsed": false
   },
   "outputs": [
    {
     "name": "stdout",
     "output_type": "stream",
     "text": [
      "5.063291139240505 / 6\n",
      "79.00000000000001+-3.6285901761795407\n"
     ]
    }
   ],
   "source": [
    "MetingFe10mm = np.array([89, 85, 91, 73, 71, 79]) - AchtergrondStraling\n",
    "Fe10mm = gemiddelde(MetingFe10mm)\n",
    "FoutFe10mm = Sm(MetingFe10mm)\n",
    "Print(MetingFe10mm, Fe10mm, FoutFe10mm)"
   ]
  },
  {
   "cell_type": "code",
   "execution_count": 26,
   "metadata": {
    "collapsed": false
   },
   "outputs": [
    {
     "name": "stdout",
     "output_type": "stream",
     "text": [
      "6.703910614525138 / 7\n",
      "59.66666666666667+-2.919556391613206\n"
     ]
    }
   ],
   "source": [
    "MetingFe15mm = np.array([60, 63, 71, 52, 72, 55, 61]) - AchtergrondStraling\n",
    "Fe15mm = gemiddelde(MetingFe15mm)\n",
    "FoutFe15mm = Sm(MetingFe15mm)\n",
    "Print(MetingFe15mm, Fe15mm, FoutFe15mm)"
   ]
  },
  {
   "cell_type": "code",
   "execution_count": 27,
   "metadata": {
    "collapsed": false
   },
   "outputs": [
    {
     "name": "stdout",
     "output_type": "stream",
     "text": [
      "6.921413121845708 / 8\n",
      "57.79166666666667+-2.6877422371450232\n"
     ]
    }
   ],
   "source": [
    "MetingFe20mm = np.array([58, 55, 55, 53, 68, 70, 54, 68]) - AchtergrondStraling\n",
    "Fe20mm = gemiddelde(MetingFe20mm)\n",
    "FoutFe20mm = Sm(MetingFe20mm)\n",
    "Print(MetingFe20mm, Fe20mm, FoutFe20mm)"
   ]
  },
  {
   "cell_type": "code",
   "execution_count": 28,
   "metadata": {
    "collapsed": false
   },
   "outputs": [
    {
     "name": "stdout",
     "output_type": "stream",
     "text": [
      "8.430913348946133 / 9\n",
      "47.44444444444445+-2.2959975910857584\n"
     ]
    }
   ],
   "source": [
    "MetingFe25mm = np.array([56, 52, 52, 49, 49, 41, 50, 53, 46]) - AchtergrondStraling\n",
    "Fe25mm = gemiddelde(MetingFe25mm)\n",
    "FoutFe25mm = Sm(MetingFe25mm)\n",
    "Print(MetingFe25mm, Fe25mm, FoutFe25mm)"
   ]
  },
  {
   "cell_type": "code",
   "execution_count": 29,
   "metadata": {
    "collapsed": false
   },
   "outputs": [
    {
     "name": "stdout",
     "output_type": "stream",
     "text": [
      "10.03802281368821 / 11\n",
      "39.84848484848485+-1.9033101512051158\n"
     ]
    }
   ],
   "source": [
    "MetingFe30mm = np.array([42, 40, 44, 46, 53, 41, 42, 41, 35, 45, 35]) - AchtergrondStraling\n",
    "Fe30mm = gemiddelde(MetingFe30mm)\n",
    "FoutFe30mm = Sm(MetingFe30mm)\n",
    "Print(MetingFe30mm, Fe30mm, FoutFe30mm)"
   ]
  },
  {
   "cell_type": "code",
   "execution_count": 30,
   "metadata": {
    "collapsed": false
   },
   "outputs": [
    {
     "data": {
      "image/png": "[encoded data removed]",
      "text/plain": [
       "<matplotlib.figure.Figure at 0x11d456198>"
      ]
     },
     "metadata": {},
     "output_type": "display_data"
    }
   ],
   "source": [
    "fig = plt.figure()\n",
    "xFe = np.array([0, 5, 10, 15, 20, 25, 30])\n",
    "yFe = np.array([Niets2, Fe5mm, Fe10mm, Fe15mm, Fe20mm, Fe25mm, Fe30mm])\n",
    "sFe = np.array([FoutNiets2, FoutFe5mm, FoutFe10mm, FoutFe15mm, FoutFe20mm, FoutFe25mm, FoutFe30mm])\n",
    "plt.errorbar(xFe, yFe, sFe, fmt = '.')\n",
    "plt.axis([-0.2, 30.2, 10, 100])\n",
    "plt.show()"
   ]
  },
  {
   "cell_type": "code",
   "execution_count": 31,
   "metadata": {
    "collapsed": false
   },
   "outputs": [
    {
     "name": "stdout",
     "output_type": "stream",
     "text": [
      "98.98881906645596 0.029369408001642196\n",
      "7.243592248383701%\n",
      "23.60099258797412\n"
     ]
    }
   ],
   "source": [
    "x0 = [Niets2, 0.5]\n",
    "def chi2(x,y,param,s):\n",
    "    diff = y - model(x,param[0],param[1])\n",
    "    return np.sum((diff/s)**2)\n",
    "    \n",
    "chi2ftie = lambda param: chi2(xFe, yFe, param, sFe)\n",
    "\n",
    "result = opt.minimize(chi2ftie,x0)\n",
    "I_Fe, mu_Fe = result.x\n",
    "print(I_Fe, mu_Fe)\n",
    "\n",
    "d_Fe = np.log(2)/mu_Fe\n",
    "\n",
    "v = len(xFe) - len([I_Fe, mu_Fe])\n",
    "pwaarde = 1 - stat.chi2.cdf(chi2ftie([I_Fe, mu_Fe]), v)\n",
    "print(str(pwaarde*100)+\"%\")\n",
    "\n",
    "print(d_Fe)"
   ]
  },
  {
   "cell_type": "code",
   "execution_count": 32,
   "metadata": {
    "collapsed": false
   },
   "outputs": [
    {
     "data": {
      "image/png": "[encoded data removed]",
      "text/plain": [
       "<matplotlib.figure.Figure at 0x11e93b198>"
      ]
     },
     "metadata": {},
     "output_type": "display_data"
    }
   ],
   "source": [
    "fig = plt.figure()\n",
    "plt.errorbar(xFe, yFe, sFe, fmt = '.', label = 'Intensiteit')\n",
    "plt.plot(x, model(x, I_Fe, mu_Fe), label = r'$I(d)$')\n",
    "plt.axvline(d_Fe, color = 'r', linestyle = '--', label = r'$d_{1/2}$')\n",
    "plt.xlabel(\"Dikte [mm]\", fontsize = 12)\n",
    "plt.ylabel(\"Intensiteit\", fontsize = 12)\n",
    "plt.legend()\n",
    "plt.axis([-0.2, 30.2, 35, 100])\n",
    "#fig.savefig('Absorptie_door_Fe.jpg', dpi=400, bbox_inches='tight')\n",
    "plt.show()"
   ]
  },
  {
   "cell_type": "code",
   "execution_count": 33,
   "metadata": {
    "collapsed": false
   },
   "outputs": [
    {
     "name": "stdout",
     "output_type": "stream",
     "text": [
      "Fout op I_Pb 1.7693798037974062 1.769378843237746\n",
      "-------\n",
      "Fout op mu_Pb 0.0009791633750683391 0.0010030345729943636\n"
     ]
    }
   ],
   "source": [
    "F = lambda X: chi2(xFe, yFe, [X,mu_Fe], sFe) - chi2(xFe, yFe, [I_Fe, mu_Fe], sFe) - 1\n",
    "I_Fe1 = opt.fsolve(F,85)[0]\n",
    "I_Fe2 = opt.fsolve(F,110)[0]\n",
    "sI_Fe1 = I_Fe - I_Fe1\n",
    "sI_Fe2 = I_Fe2 - I_Fe\n",
    "print(\"Fout op I_Pb\",sI_Fe1,sI_Fe2)\n",
    "print(\"-------\")\n",
    "F = lambda X: chi2(xFe, yFe, [I_Fe,X], sFe) - chi2(xFe, yFe, [I_Fe, mu_Fe], sFe) - 1\n",
    "mu_Fe1 = opt.fsolve(F,0.02)[0]\n",
    "mu_Fe2 = opt.fsolve(F,0.07)[0]\n",
    "smu_Fe1 = mu_Fe - mu_Fe1\n",
    "smu_Fe2 = mu_Fe2 - mu_Fe\n",
    "print(\"Fout op mu_Pb\",smu_Fe1,smu_Fe2)"
   ]
  },
  {
   "cell_type": "code",
   "execution_count": 34,
   "metadata": {
    "collapsed": true
   },
   "outputs": [],
   "source": [
    "#Stralingsintensiteit en afstand van 22-Na"
   ]
  },
  {
   "cell_type": "code",
   "execution_count": 35,
   "metadata": {
    "collapsed": false
   },
   "outputs": [],
   "source": [
    "xNa = []\n",
    "yNa = []\n",
    "sNa = []"
   ]
  },
  {
   "cell_type": "code",
   "execution_count": 36,
   "metadata": {
    "collapsed": false,
    "scrolled": true
   },
   "outputs": [
    {
     "name": "stdout",
     "output_type": "stream",
     "text": [
      "0.12148823082763856 / 2\n",
      "3292.5+-40.574006457336694\n"
     ]
    }
   ],
   "source": [
    "Meting2cm = np.array([3265, 3320]) #- AchtergrondStraling\n",
    "M2cm = gemiddelde(Meting2cm)\n",
    "FoutM2cm = Sm(Meting2cm)\n",
    "xNa.append(2)\n",
    "yNa.append(M2cm)\n",
    "sNa.append(FoutM2cm)\n",
    "Print(Meting2cm, M2cm, FoutM2cm)"
   ]
  },
  {
   "cell_type": "code",
   "execution_count": 37,
   "metadata": {
    "collapsed": false
   },
   "outputs": [
    {
     "name": "stdout",
     "output_type": "stream",
     "text": [
      "0.2964060763245646 / 2\n",
      "1349.5+-25.975950415721076\n"
     ]
    }
   ],
   "source": [
    "Meting3cm = np.array([1307, 1392]) #- AchtergrondStraling\n",
    "M3cm = gemiddelde(Meting3cm)\n",
    "FoutM3cm = Sm(Meting3cm)\n",
    "xNa.append(3)\n",
    "yNa.append(M3cm)\n",
    "sNa.append(FoutM3cm)\n",
    "Print(Meting3cm, M3cm, FoutM3cm)"
   ]
  },
  {
   "cell_type": "code",
   "execution_count": 38,
   "metadata": {
    "collapsed": false
   },
   "outputs": [
    {
     "name": "stdout",
     "output_type": "stream",
     "text": [
      "0.19905449116695692 / 2\n",
      "2009.5+-31.697791721190924\n"
     ]
    }
   ],
   "source": [
    "Meting25mm = np.array([1992, 2027]) #- AchtergrondStraling\n",
    "M25mm = gemiddelde(Meting25mm)\n",
    "FoutM25mm = Sm(Meting25mm)\n",
    "xNa.append(2.5)\n",
    "yNa.append(M25mm)\n",
    "sNa.append(FoutM25mm)\n",
    "Print(Meting25mm, M25mm, FoutM25mm)"
   ]
  },
  {
   "cell_type": "code",
   "execution_count": 39,
   "metadata": {
    "collapsed": false
   },
   "outputs": [
    {
     "name": "stdout",
     "output_type": "stream",
     "text": [
      "0.4244031830238726 / 2\n",
      "942.5+-21.70829334609241\n"
     ]
    }
   ],
   "source": [
    "Meting35mm = np.array([938, 947]) #- AchtergrondStraling\n",
    "M35mm = gemiddelde(Meting35mm)\n",
    "FoutM35mm = Sm(Meting35mm)\n",
    "xNa.append(3.5)\n",
    "yNa.append(M35mm)\n",
    "sNa.append(FoutM35mm)\n",
    "Print(Meting35mm, M35mm, FoutM35mm)"
   ]
  },
  {
   "cell_type": "code",
   "execution_count": 40,
   "metadata": {
    "collapsed": false
   },
   "outputs": [
    {
     "name": "stdout",
     "output_type": "stream",
     "text": [
      "0.5869405722670579 / 2\n",
      "681.5+-18.45941494197473\n"
     ]
    }
   ],
   "source": [
    "Meting4cm = np.array([706, 657]) #- AchtergrondStraling\n",
    "M4cm = gemiddelde(Meting4cm)\n",
    "FoutM4cm = Sm(Meting4cm)\n",
    "xNa.append(4)\n",
    "yNa.append(M4cm)\n",
    "sNa.append(FoutM4cm)\n",
    "Print(Meting4cm, M4cm, FoutM4cm)"
   ]
  },
  {
   "cell_type": "code",
   "execution_count": 41,
   "metadata": {
    "collapsed": false
   },
   "outputs": [
    {
     "name": "stdout",
     "output_type": "stream",
     "text": [
      "0.7594936708860758 / 3\n",
      "526.6666666666666+-13.249737942901193\n"
     ]
    }
   ],
   "source": [
    "Meting45mm = np.array([523, 518, 539]) #- AchtergrondStraling\n",
    "#Meting45mm = np.array([523, 518]) - AchtergrondStraling\n",
    "M45mm = gemiddelde(Meting45mm)\n",
    "FoutM45mm = Sm(Meting45mm)\n",
    "xNa.append(4.5)\n",
    "yNa.append(M45mm)\n",
    "sNa.append(FoutM45mm)\n",
    "Print(Meting45mm, M45mm, FoutM45mm)"
   ]
  },
  {
   "cell_type": "code",
   "execution_count": 42,
   "metadata": {
    "collapsed": false
   },
   "outputs": [
    {
     "name": "stdout",
     "output_type": "stream",
     "text": [
      "0.9195402298850573 / 3\n",
      "435.0+-12.041594578792296\n"
     ]
    }
   ],
   "source": [
    "Meting5cm = np.array([389, 437, 479]) #- AchtergrondStraling\n",
    "#Meting5cm = np.array([389, 437]) - AchtergrondStraling\n",
    "M5cm = gemiddelde(Meting5cm)\n",
    "FoutM5cm = Sm(Meting5cm)\n",
    "xNa.append(5)\n",
    "yNa.append(M5cm)\n",
    "sNa.append(FoutM5cm)\n",
    "Print(Meting5cm, M5cm, FoutM5cm)"
   ]
  },
  {
   "cell_type": "code",
   "execution_count": 43,
   "metadata": {
    "collapsed": false
   },
   "outputs": [
    {
     "name": "stdout",
     "output_type": "stream",
     "text": [
      "1.1505273250239691 / 3\n",
      "347.6666666666667+-10.765170174636763\n"
     ]
    }
   ],
   "source": [
    "Meting55mm = np.array([345, 336, 362]) #- AchtergrondStraling\n",
    "#Meting55mm = np.array([345, 336]) - AchtergrondStraling\n",
    "M55mm = gemiddelde(Meting55mm)\n",
    "FoutM55mm = Sm(Meting55mm)\n",
    "xNa.append(5.5)\n",
    "yNa.append(M55mm)\n",
    "sNa.append(FoutM55mm)\n",
    "Print(Meting55mm, M55mm, FoutM55mm)"
   ]
  },
  {
   "cell_type": "code",
   "execution_count": 44,
   "metadata": {
    "collapsed": false
   },
   "outputs": [
    {
     "name": "stdout",
     "output_type": "stream",
     "text": [
      "1.4285714285714282 / 3\n",
      "280.0+-9.66091783079296\n"
     ]
    }
   ],
   "source": [
    "Meting6cm = np.array([286, 278, 276]) #- AchtergrondStraling\n",
    "#Meting6cm = np.array([286, 278]) - AchtergrondStraling\n",
    "M6cm = gemiddelde(Meting6cm)\n",
    "FoutM6cm = Sm(Meting6cm)\n",
    "xNa.append(6)\n",
    "yNa.append(M6cm)\n",
    "sNa.append(FoutM6cm)\n",
    "Print(Meting6cm, M6cm, FoutM6cm)"
   ]
  },
  {
   "cell_type": "code",
   "execution_count": 45,
   "metadata": {
    "collapsed": false
   },
   "outputs": [
    {
     "name": "stdout",
     "output_type": "stream",
     "text": [
      "1.7291066282420744 / 3\n",
      "231.33333333333334+-8.781293248212995\n"
     ]
    }
   ],
   "source": [
    "Meting65mm = np.array([236, 231, 227]) #- AchtergrondStraling\n",
    "#Meting65mm = np.array([236, 231]) - AchtergrondStraling\n",
    "M65mm = gemiddelde(Meting65mm)\n",
    "FoutM65mm = Sm(Meting65mm)\n",
    "xNa.append(6.5)\n",
    "yNa.append(M65mm)\n",
    "sNa.append(FoutM65mm)\n",
    "Print(Meting65mm, M65mm, FoutM65mm)"
   ]
  },
  {
   "cell_type": "code",
   "execution_count": 46,
   "metadata": {
    "collapsed": false
   },
   "outputs": [
    {
     "name": "stdout",
     "output_type": "stream",
     "text": [
      "2.0477815699658697 / 3\n",
      "195.33333333333334+-8.069145624606803\n"
     ]
    }
   ],
   "source": [
    "Meting7cm = np.array([203, 196, 187]) #- AchtergrondStraling\n",
    "#Meting7cm = np.array([203, 196]) - AchtergrondStraling\n",
    "M7cm = gemiddelde(Meting7cm)\n",
    "FoutM7cm = Sm(Meting7cm)\n",
    "xNa.append(7)\n",
    "yNa.append(M7cm)\n",
    "sNa.append(FoutM7cm)\n",
    "Print(Meting7cm, M7cm, FoutM7cm)"
   ]
  },
  {
   "cell_type": "code",
   "execution_count": 47,
   "metadata": {
    "collapsed": false
   },
   "outputs": [
    {
     "name": "stdout",
     "output_type": "stream",
     "text": [
      "2.8639618138424816 / 3\n",
      "139.66666666666666+-6.82316316348624\n"
     ]
    }
   ],
   "source": [
    "Meting8cm = np.array([130, 146, 143]) #- AchtergrondStraling\n",
    "#Meting8cm = np.array([130, 146]) - AchtergrondStraling\n",
    "M8cm = gemiddelde(Meting8cm)\n",
    "FoutM8cm = Sm(Meting8cm)\n",
    "xNa.append(8)\n",
    "yNa.append(M8cm)\n",
    "sNa.append(FoutM8cm)\n",
    "Print(Meting8cm, M8cm, FoutM8cm)"
   ]
  },
  {
   "cell_type": "code",
   "execution_count": 48,
   "metadata": {
    "collapsed": false
   },
   "outputs": [
    {
     "name": "stdout",
     "output_type": "stream",
     "text": [
      "3.7647058823529402 / 4\n",
      "106.25+-5.153882032022076\n"
     ]
    }
   ],
   "source": [
    "Meting9cm = np.array([105, 98, 107, 115]) #- AchtergrondStraling\n",
    "#Meting9cm = np.array([105, 98]) - AchtergrondStraling\n",
    "M9cm = gemiddelde(Meting9cm)\n",
    "FoutM9cm = Sm(Meting9cm)\n",
    "xNa.append(9)\n",
    "yNa.append(M9cm)\n",
    "sNa.append(FoutM9cm)\n",
    "Print(Meting9cm, M9cm, FoutM9cm)"
   ]
  },
  {
   "cell_type": "code",
   "execution_count": 49,
   "metadata": {
    "collapsed": false
   },
   "outputs": [
    {
     "name": "stdout",
     "output_type": "stream",
     "text": [
      "4.255319148936169 / 5\n",
      "94.0+-4.33589667773576\n"
     ]
    }
   ],
   "source": [
    "Meting10cm = np.array([96, 90, 95, 84, 105]) #- AchtergrondStraling\n",
    "#Meting10cm = np.array([96, 90]) - AchtergrondStraling\n",
    "M10cm = gemiddelde(Meting10cm)\n",
    "FoutM10cm = Sm(Meting10cm)\n",
    "xNa.append(10)\n",
    "yNa.append(M10cm)\n",
    "sNa.append(FoutM10cm)\n",
    "Print(Meting10cm, M10cm, FoutM10cm)"
   ]
  },
  {
   "cell_type": "code",
   "execution_count": 50,
   "metadata": {
    "collapsed": false
   },
   "outputs": [
    {
     "name": "stdout",
     "output_type": "stream",
     "text": [
      "7.095343680709533 / 8\n",
      "56.375+-2.6545950726994127\n"
     ]
    }
   ],
   "source": [
    "Meting12cm = np.array([57, 64, 58, 53, 56, 51, 55, 57]) #- AchtergrondStraling\n",
    "#Meting12cm = np.array([57, 64]) - AchtergrondStraling\n",
    "M12cm = gemiddelde(Meting12cm)\n",
    "FoutM12cm = Sm(Meting12cm)\n",
    "xNa.append(12)\n",
    "yNa.append(M12cm)\n",
    "sNa.append(FoutM12cm)\n",
    "Print(Meting12cm, M12cm, FoutM12cm)"
   ]
  },
  {
   "cell_type": "code",
   "execution_count": 51,
   "metadata": {
    "collapsed": false
   },
   "outputs": [
    {
     "name": "stdout",
     "output_type": "stream",
     "text": [
      "11.009174311926602 / 12\n",
      "36.333333333333336+-1.7400510848184252\n"
     ]
    }
   ],
   "source": [
    "Meting14cm = np.array([40, 37, 37, 33, 43, 28, 42, 31, 32, 37, 36, 40]) #- AchtergrondStraling\n",
    "#Meting14cm = np.array([40, 37, 37]) - AchtergrondStraling\n",
    "M14cm = gemiddelde(Meting14cm)\n",
    "FoutM14cm = Sm(Meting14cm)\n",
    "xNa.append(14)\n",
    "yNa.append(M14cm)\n",
    "sNa.append(FoutM14cm)\n",
    "Print(Meting14cm, M14cm, FoutM14cm)"
   ]
  },
  {
   "cell_type": "code",
   "execution_count": 52,
   "metadata": {
    "collapsed": false
   },
   "outputs": [
    {
     "name": "stdout",
     "output_type": "stream",
     "text": [
      "19.230769230769226 / 20\n",
      "20.8+-1.019803902718557\n"
     ]
    }
   ],
   "source": [
    "Meting19cm = np.array([17, 26, 19, 19, 20, 21, 22, 22, 19, 21, 19, 16, 22, 24, 23, 15, 25, 18, 24, 24])#, 21, 25]) - AchtergrondStraling \n",
    "#Meting19cm = np.array([17, 26, 19, 19, 20, 21]) - AchtergrondStraling\n",
    "M19cm = gemiddelde(Meting19cm)\n",
    "FoutM19cm = Sm(Meting19cm)\n",
    "xNa.append(19)\n",
    "yNa.append(M19cm)\n",
    "sNa.append(FoutM19cm)\n",
    "Print(Meting19cm, M19cm, FoutM19cm)"
   ]
  },
  {
   "cell_type": "code",
   "execution_count": 53,
   "metadata": {
    "collapsed": false
   },
   "outputs": [
    {
     "name": "stdout",
     "output_type": "stream",
     "text": [
      "35.55555555555555 / 36\n",
      "11.25+-0.5590169943749475\n"
     ]
    }
   ],
   "source": [
    "Meting25cm = np.array([19, 10, 8, 10, 9, 9, 9, 10, 7, 10, 12, 13, 14, 13, 11, 13, 4, 5, 16, 12, 12, 9, 7, 14, 8, 21, 20, 17, 14, 13, 11, 7, 9, 11, 5, 13])#, 8, 15, 17, 5, 7, 4, 5, 18, 8, 6, 8, 17]) - AchtergrondStraling\n",
    "#Meting25cm = np.array([19, 10, 8, 10, 9, 9, 9, 10, 7, 10, 12, 13, 14]) - AchtergrondStraling\n",
    "M25cm = gemiddelde(Meting25cm)\n",
    "FoutM25cm = Sm(Meting25cm)\n",
    "xNa.append(25)\n",
    "yNa.append(M25cm)\n",
    "sNa.append(FoutM25cm)\n",
    "Print(Meting25cm, M25cm, FoutM25cm)"
   ]
  },
  {
   "cell_type": "code",
   "execution_count": 54,
   "metadata": {
    "collapsed": false
   },
   "outputs": [
    {
     "data": {
      "image/png": "[encoded data removed]",
      "text/plain": [
       "<matplotlib.figure.Figure at 0x1221d3390>"
      ]
     },
     "metadata": {},
     "output_type": "display_data"
    }
   ],
   "source": [
    "fig = plt.figure()\n",
    "plt.errorbar(xNa, yNa, sNa, fmt = '.')\n",
    "plt.axis([0, 25.2, 0, 3500])\n",
    "plt.show()"
   ]
  },
  {
   "cell_type": "code",
   "execution_count": 55,
   "metadata": {
    "collapsed": false
   },
   "outputs": [
    {
     "name": "stdout",
     "output_type": "stream",
     "text": [
      "10853.320175977302\n",
      "0.0%\n"
     ]
    }
   ],
   "source": [
    "def model2(x, A):\n",
    "    x = np.array(x)\n",
    "    return( A * x**-2)\n",
    "\n",
    "som = 0\n",
    "for i in range(len(xNa)):\n",
    "    som = som + yNa[i]*xNa[i]**2\n",
    "a = som/len(xNa)\n",
    "\n",
    "x0 = [a]\n",
    "def chi2(x,y,param,s):\n",
    "    diff = y - model2(x,param)\n",
    "    return np.sum((diff/s)**2)\n",
    "    \n",
    "chi2ftie = lambda param: chi2(xNa, yNa, param, sNa)\n",
    "\n",
    "result = opt.minimize(chi2ftie,x0)\n",
    "A = result.x[0]\n",
    "print(A)\n",
    "\n",
    "v = len(xNa) - len([A])\n",
    "pwaarde = 1 - stat.chi2.cdf(chi2ftie([A]), v)\n",
    "print(str(pwaarde*100)+\"%\")"
   ]
  },
  {
   "cell_type": "code",
   "execution_count": 58,
   "metadata": {
    "collapsed": false,
    "scrolled": false
   },
   "outputs": [
    {
     "data": {
      "image/png": "[encoded data removed]",
      "text/plain": [
       "<matplotlib.figure.Figure at 0x122302c50>"
      ]
     },
     "metadata": {},
     "output_type": "display_data"
    }
   ],
   "source": [
    "x2 = np.linspace(1, 25, 100)\n",
    "fig = plt.figure()\n",
    "plt.errorbar(xNa, yNa, sNa, 0.2, fmt = '.', label = 'Intensiteit')\n",
    "plt.plot(x2, model2(x2, A), label = 'I(x)')\n",
    "#plt.plot(x2, model2(x2, a))\n",
    "plt.axis([-0.2, 25.2, 0, 3500])\n",
    "plt.xlabel('Afstand [cm]', fontsize = 12)\n",
    "plt.ylabel('Intensiteit', fontsize = 12)\n",
    "plt.legend()\n",
    "#plt.axis([0, 25.2, 0, 500])\n",
    "#fig.savefig('Afstand_tot_Na.jpg', dpi=400, bbox_inches='tight')\n",
    "plt.show()"
   ]
  },
  {
   "cell_type": "code",
   "execution_count": 57,
   "metadata": {
    "collapsed": false
   },
   "outputs": [
    {
     "name": "stdout",
     "output_type": "stream",
     "text": [
      "Fout op A 68.8818450044655 68.82284694721602\n"
     ]
    }
   ],
   "source": [
    "F = lambda X: chi2(xNa, yNa, [X], sNa) - chi2(xNa, yNa, [A], sNa) - 1\n",
    "A_Na1 = opt.fsolve(F,9000)[0]\n",
    "A_Na2 = opt.fsolve(F,12000)[0]\n",
    "sA_Na1 = A - A_Na1\n",
    "sA_Na2 = A_Na2 - A\n",
    "print(\"Fout op A\",sA_Na1,sA_Na2)"
   ]
  }
 ],
 "metadata": {
  "anaconda-cloud": {},
  "kernelspec": {
   "display_name": "Python [default]",
   "language": "python",
   "name": "python3"
  },
  "language_info": {
   "codemirror_mode": {
    "name": "ipython",
    "version": 3
   },
   "file_extension": ".py",
   "mimetype": "text/x-python",
   "name": "python",
   "nbconvert_exporter": "python",
   "pygments_lexer": "ipython3",
   "version": "3.5.2"
  }
 },
 "nbformat": 4,
 "nbformat_minor": 1
}
