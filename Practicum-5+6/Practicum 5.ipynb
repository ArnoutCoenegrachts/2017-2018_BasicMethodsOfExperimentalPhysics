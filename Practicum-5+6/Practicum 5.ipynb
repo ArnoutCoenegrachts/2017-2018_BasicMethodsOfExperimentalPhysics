{
 "cells": [
  {
   "cell_type": "code",
   "execution_count": 18,
   "metadata": {
    "collapsed": true
   },
   "outputs": [],
   "source": [
    "import numpy as np\n",
    "import matplotlib.pyplot as plt\n",
    "import scipy.optimize as opt\n",
    "import pandas as pd\n",
    "import unicodedata\n",
    "import scipy.stats as stat"
   ]
  },
  {
   "cell_type": "code",
   "execution_count": 19,
   "metadata": {
    "collapsed": false
   },
   "outputs": [
    {
     "name": "stdout",
     "output_type": "stream",
     "text": [
      "[1.6128892085349658, 1.6128892085349658, 1.6180339887498951, 1.6282310367126385, 1.6332831103233583, 1.638304088577984]\n"
     ]
    }
   ],
   "source": [
    "Golflengtes = [706.5, 667.8, 587.5, 501.6, 471.3, 447.1]\n",
    "#Golflengtes = [706.5*10**-9, 667.8*10**-9, 587.5*10**-9, 501.6*10**-9, 471.3*10**-9, 447.1*10**-9]\n",
    "\n",
    "x = [] #x = Lambda^-2\n",
    "for i in Golflengtes:\n",
    "    x.append(i**-2)\n",
    "    \n",
    "alpha = np.deg2rad(60)\n",
    "nulhoek = np.deg2rad(240)\n",
    "hoeken = np.deg2rad([287.5, 287.5, 288, 289, 289.5, 290])\n",
    "def brekingsindex(nulhoek, alpha, hoek):\n",
    "    return np.sin(((hoek - nulhoek) + alpha)/2)/np.sin(alpha/2)\n",
    "n = []\n",
    "for i in hoeken:\n",
    "    n.append(brekingsindex(nulhoek, alpha, i))\n",
    "print(n)"
   ]
  },
  {
   "cell_type": "code",
   "execution_count": 20,
   "metadata": {
    "collapsed": false
   },
   "outputs": [
    {
     "name": "stdout",
     "output_type": "stream",
     "text": [
      "[ 0.00250419  0.00250419  0.00250537  0.00250757  0.0025086   0.00250958]\n"
     ]
    }
   ],
   "source": [
    "def Fd(d,a): #fout op delta\n",
    "    return np.cos((d+a)/2)/(2*np.sin(a/2))\n",
    "def Fa(d,a): #fout op alpha\n",
    "    return - (np.cos(a/2)*np.sin((d+a)/2)-np.sin(a/2)*np.cos((d+a)/2))/(2*(np.sin(a/2))**2)\n",
    "def SigmaN(d,a,sD,sA): #fout op brekingsindex\n",
    "    return np.sqrt(Fd(d,a)**2*sD**2+Fa(d,a)**2*sA**2)\n",
    "DeltaSys = np.deg2rad(0.5) #systeemfout\n",
    "sD = DeltaSys/np.sqrt(12)\n",
    "sA = 0\n",
    "sN = SigmaN(hoeken, alpha,sD,sA)\n",
    "print(sN)"
   ]
  },
  {
   "cell_type": "code",
   "execution_count": 21,
   "metadata": {
    "collapsed": false
   },
   "outputs": [
    {
     "name": "stdout",
     "output_type": "stream",
     "text": [
      "8757.11318772 1.59383997157\n"
     ]
    }
   ],
   "source": [
    "def model(x,B,C):\n",
    "    return(C+B*x) # x = lambda^-2\n",
    "\n",
    "x0 = [1*10**-9,1.6]\n",
    "\n",
    "def chi2(x,y,param,s):\n",
    "    som = 0\n",
    "    for i in range(len(x)):\n",
    "        som = som + ((y[i] - model(x[i],param[0],param[1]))/s[i])**2\n",
    "    return som\n",
    "\n",
    "#def chi2(x,y,param,s):\n",
    "    #diff = y - model(x,param[0],param[1])\n",
    "    #return np.sum((diff/s)**2)\n",
    "\n",
    "chi2ftie = lambda param: chi2(x, n, param, sN)\n",
    "\n",
    "result = opt.minimize(chi2ftie,x0)\n",
    "B,C = result.x\n",
    "print(B,C)"
   ]
  },
  {
   "cell_type": "code",
   "execution_count": 114,
   "metadata": {
    "collapsed": false,
    "scrolled": false
   },
   "outputs": [
    {
     "name": "stdout",
     "output_type": "stream",
     "text": [
      "[706.5, 667.8, 587.5, 501.6, 471.3, 447.1]\n"
     ]
    },
    {
     "data": {
      "image/png": "[encoded data removed]",
      "text/plain": [
       "<matplotlib.figure.Figure at 0x11388a898>"
      ]
     },
     "metadata": {},
     "output_type": "display_data"
    }
   ],
   "source": [
    "def model2(Lambda,B,C):\n",
    "    r = []\n",
    "    for i in Lambda:\n",
    "        r.append(C+B*i)\n",
    "    return(r)\n",
    "\n",
    "print(Golflengtes)\n",
    "G = np.linspace(min(x),max(x),200)\n",
    "\n",
    "FigVi = plt.figure()\n",
    "plt.errorbar(x[0:2], n[0:2], sN[0:2], fmt = 'r.')\n",
    "plt.errorbar(x[2], n[2], sN[2], fmt = 'y.')\n",
    "plt.errorbar(x[3], n[3], sN[3], fmt = 'g.')\n",
    "plt.errorbar(x[4], n[4], sN[4], fmt = 'b.')\n",
    "plt.errorbar(x[5], n[5], sN[5], fmt = 'm.')\n",
    "plt.errorbar(0,0,0, fmt = '.', color = 'grey', label = \"n\")\n",
    "plt.plot(G, model(G,B,C), \"c\", label = \"n($\\lambda$)\")\n",
    "plt.legend()\n",
    "plt.xticks([2.0034368959950798e-06, 2.24236946337677e-06, 2.8972385694884564e-06, 3.974522357801128e-06, 4.5019961625885106e-06, 5.002541040721634e-06]\n",
    "           , ['', '', 587.5, 501.6, 471.3, 447.1])\n",
    "plt.axis([5.1*10**-6,1.9*10**-6, 1.608, 1.643])\n",
    "plt.figtext(0.86, 0.082, str(706.5), color = 'black')\n",
    "plt.figtext(0.77, 0.082, str(667.8), color = 'black')\n",
    "plt.xlabel(\"Golflengte $\\lambda$ [nm]\", fontsize = 13)\n",
    "plt.ylabel(\"Brekingsindex n\", fontsize = 13)\n",
    "#FigVi.savefig('Brekingsindex.png', dpi=400, bbox_inches='tight') \n",
    "plt.show()"
   ]
  },
  {
   "cell_type": "code",
   "execution_count": 113,
   "metadata": {
    "collapsed": false
   },
   "outputs": [
    {
     "name": "stdout",
     "output_type": "stream",
     "text": [
      "94.7224990588%\n"
     ]
    }
   ],
   "source": [
    "v = len(x) - len([B,C])\n",
    "pwaarde = 1 - stat.chi2.cdf(chi2ftie([B,C]), v)\n",
    "print(str(pwaarde*100)+\"%\")"
   ]
  },
  {
   "cell_type": "code",
   "execution_count": 7,
   "metadata": {
    "collapsed": false
   },
   "outputs": [
    {
     "name": "stdout",
     "output_type": "stream",
     "text": [
      "434.194794888 434.448814225\n",
      "0.0495601304209 0.049589124853\n",
      "0.00157734274338 0.00157739506331\n",
      "0.000989656912229 0.000989689738818\n"
     ]
    }
   ],
   "source": [
    "f = lambda b: chi2(x, n, [b,C], sN) - chi2(x, n, [B,C], sN) - 1\n",
    "B1 = opt.fsolve(f,8760)[0]\n",
    "B2 = opt.fsolve(f,8770)[0]\n",
    "sB1 = B-B1\n",
    "sB2 = B2-B\n",
    "print(sB1,sB2)\n",
    "print(sB1/B,sB2/B)\n",
    "\n",
    "g = lambda c: chi2(x, n, [B,c], sN) - chi2(x, n, [B,C], sN) - 1\n",
    "C1 = opt.fsolve(g,1)[0]\n",
    "C2 = opt.fsolve(g,2)[0]\n",
    "sC1 = C-C1\n",
    "sC2 = C2-C\n",
    "print(sC1,sC2)\n",
    "print(sC1/C,sC2/C)"
   ]
  },
  {
   "cell_type": "code",
   "execution_count": 110,
   "metadata": {
    "collapsed": false
   },
   "outputs": [
    {
     "name": "stdout",
     "output_type": "stream",
     "text": [
      "[1.6180339887498951, 1.623147963930025, 1.638304088577984, 1.6482523772440318]\n",
      "[ 0.00250537  0.00250649  0.00250958  0.0025114 ]\n",
      "[601.62585124099655, 546.62242775742141, 443.78809261228764, 401.1728353144299]\n"
     ]
    }
   ],
   "source": [
    "Hoeken2 = np.deg2rad([288,288.5,290,291]) \n",
    "#.222253766478\n",
    "Brekingsindexen = []\n",
    "for i in Hoeken2:\n",
    "    Brekingsindexen.append(brekingsindex(nulhoek,alpha,i))\n",
    "print(Brekingsindexen)\n",
    "print(SigmaN(Hoeken2, alpha, sD, sA))\n",
    "def L(B,C,Brekingsindex):\n",
    "    return (Brekingsindex-C)/B\n",
    "Lambdas = []\n",
    "for i in Brekingsindexen:\n",
    "    Lambdas.append(L(B,C,i)**-0.5)\n",
    "print(Lambdas)"
   ]
  },
  {
   "cell_type": "code",
   "execution_count": 111,
   "metadata": {
    "collapsed": false
   },
   "outputs": [
    {
     "name": "stdout",
     "output_type": "stream",
     "text": [
      "[ 44.30403413  33.96408005  19.77340662  15.6011266 ]\n",
      "[ 0.07364051  0.06213444  0.04455596  0.03888879]\n"
     ]
    }
   ],
   "source": [
    "#dit geeft fout op x, herscrhijf naar lambda aub\n",
    "FoutBrekingsindexen = SigmaN(Hoeken2,alpha,sA,sD)\n",
    "DLn = -1/(2*B*((Brekingsindexen-C)/B)**(3/2))\n",
    "DLb = (Brekingsindexen-C)/(2*((Brekingsindexen-C)/B)**(3/2)*B**2)\n",
    "DLc = 1/(2*B*((Brekingsindexen-C)/B)**(3/2))\n",
    "\n",
    "DL = np.sqrt( (DLn*FoutBrekingsindexen)**2 + (DLb*sB1)**2 + (DLc*sC1)**2 )\n",
    "print(DL)\n",
    "print(DL/Lambdas)"
   ]
  },
  {
   "cell_type": "code",
   "execution_count": 109,
   "metadata": {
    "collapsed": false
   },
   "outputs": [
    {
     "name": "stdout",
     "output_type": "stream",
     "text": [
      "578.2 in [557.321817111,645.929885371]\n",
      "546.1 in [512.658347709,580.586507806]\n",
      "435.8 in [424.014685995,463.56149923]\n",
      "404.7 in [385.571708716,416.773961913]\n"
     ]
    }
   ],
   "source": [
    "#Geel:\n",
    "print(str(578.2)+\" in [\"+str(Lambdas[0]-DL[0])+\",\"+str(Lambdas[0]+DL[0])+\"]\")\n",
    "#Groen:\n",
    "print(str(546.1)+\" in [\"+str(Lambdas[1]-DL[1])+\",\"+str(Lambdas[1]+DL[1])+\"]\")\n",
    "#Blauw:\n",
    "print(str(435.8)+\" in [\"+str(Lambdas[2]-DL[2])+\",\"+str(Lambdas[2]+DL[2])+\"]\")\n",
    "#Paars:\n",
    "print(str(404.7)+\" in [\"+str(Lambdas[3]-DL[3])+\",\"+str(Lambdas[3]+DL[3])+\"]\")"
   ]
  }
 ],
 "metadata": {
  "anaconda-cloud": {},
  "kernelspec": {
   "display_name": "Python [default]",
   "language": "python",
   "name": "python3"
  },
  "language_info": {
   "codemirror_mode": {
    "name": "ipython",
    "version": 3
   },
   "file_extension": ".py",
   "mimetype": "text/x-python",
   "name": "python",
   "nbconvert_exporter": "python",
   "pygments_lexer": "ipython3",
   "version": "3.5.2"
  }
 },
 "nbformat": 4,
 "nbformat_minor": 1
}
